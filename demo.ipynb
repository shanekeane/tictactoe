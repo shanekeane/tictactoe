{
 "cells": [
  {
   "cell_type": "code",
   "execution_count": 1,
   "id": "47995499-257c-4864-8129-b621250b12af",
   "metadata": {},
   "outputs": [],
   "source": [
    "from tictactoe.dynamic_prog import policy_iteration\n",
    "from tictactoe.utils import play_random, play_bot"
   ]
  },
  {
   "cell_type": "markdown",
   "id": "24840903-992c-4b07-8fef-a0f7cf0cd26e",
   "metadata": {},
   "source": [
    "# Set hyperparameters"
   ]
  },
  {
   "cell_type": "code",
   "execution_count": 2,
   "id": "9bdc6ce9-bcc1-4e62-8f2c-ee3dc520d011",
   "metadata": {},
   "outputs": [],
   "source": [
    "GAMMA = 0.9 #discount rate\n",
    "DELTA = 1e-9 #stopping condition for policy evaluation."
   ]
  },
  {
   "cell_type": "markdown",
   "id": "95928378-ac28-40da-9b06-89fa7dbd7d9d",
   "metadata": {},
   "source": [
    "# Train policy"
   ]
  },
  {
   "cell_type": "code",
   "execution_count": 3,
   "id": "52530f46-3f89-4728-944e-ec905ac543e2",
   "metadata": {},
   "outputs": [],
   "source": [
    "policy = policy_iteration(GAMMA, DELTA)"
   ]
  },
  {
   "cell_type": "markdown",
   "id": "a6736ec4-4ea6-4259-a7ef-23e31272b5cc",
   "metadata": {},
   "source": [
    "# Testing"
   ]
  },
  {
   "cell_type": "code",
   "execution_count": 4,
   "id": "ef9fff77-cb5f-4036-bf76-833fd7086ee9",
   "metadata": {},
   "outputs": [
    {
     "name": "stdout",
     "output_type": "stream",
     "text": [
      "Bot wins: 9936\n",
      "Player wins: 0\n",
      "Draws: 64\n",
      "\n",
      "\n",
      "BOT WIN RATE: 0.9936\n"
     ]
    }
   ],
   "source": [
    "play_random(pi=policy, games=10000, bot_start = True)"
   ]
  },
  {
   "cell_type": "code",
   "execution_count": 5,
   "id": "d37a38be-5032-4d6a-a03f-19720598bdae",
   "metadata": {},
   "outputs": [
    {
     "name": "stdout",
     "output_type": "stream",
     "text": [
      "Bot wins: 9181\n",
      "Player wins: 0\n",
      "Draws: 819\n",
      "\n",
      "\n",
      "BOT WIN RATE: 0.9181\n"
     ]
    }
   ],
   "source": [
    "play_random(pi=policy, games=10000, bot_start = False)"
   ]
  },
  {
   "cell_type": "code",
   "execution_count": 6,
   "id": "0fd34efe-280f-498d-a2ec-0d30a562b326",
   "metadata": {},
   "outputs": [
    {
     "name": "stdin",
     "output_type": "stream",
     "text": [
      "Who will start, 0 for you, 1 for bot:  0\n",
      "Your move (square 1-9): 1\n"
     ]
    },
    {
     "data": {
      "image/png": "[encoded data removed]",
      "text/plain": [
       "<Figure size 100x100 with 1 Axes>"
      ]
     },
     "metadata": {},
     "output_type": "display_data"
    },
    {
     "data": {
      "image/png": "[encoded data removed]",
      "text/plain": [
       "<Figure size 100x100 with 1 Axes>"
      ]
     },
     "metadata": {},
     "output_type": "display_data"
    },
    {
     "name": "stdin",
     "output_type": "stream",
     "text": [
      "Your move (square 1-9): 9\n"
     ]
    },
    {
     "data": {
      "image/png": "[encoded data removed]",
      "text/plain": [
       "<Figure size 100x100 with 1 Axes>"
      ]
     },
     "metadata": {},
     "output_type": "display_data"
    },
    {
     "data": {
      "image/png": "[encoded data removed]",
      "text/plain": [
       "<Figure size 100x100 with 1 Axes>"
      ]
     },
     "metadata": {},
     "output_type": "display_data"
    },
    {
     "name": "stdin",
     "output_type": "stream",
     "text": [
      "Your move (square 1-9): 8\n"
     ]
    },
    {
     "data": {
      "image/png": "[encoded data removed]",
      "text/plain": [
       "<Figure size 100x100 with 1 Axes>"
      ]
     },
     "metadata": {},
     "output_type": "display_data"
    },
    {
     "data": {
      "image/png": "[encoded data removed]",
      "text/plain": [
       "<Figure size 100x100 with 1 Axes>"
      ]
     },
     "metadata": {},
     "output_type": "display_data"
    },
    {
     "name": "stdin",
     "output_type": "stream",
     "text": [
      "Your move (square 1-9): 3\n"
     ]
    },
    {
     "data": {
      "image/png": "[encoded data removed]",
      "text/plain": [
       "<Figure size 100x100 with 1 Axes>"
      ]
     },
     "metadata": {},
     "output_type": "display_data"
    },
    {
     "data": {
      "image/png": "[encoded data removed]",
      "text/plain": [
       "<Figure size 100x100 with 1 Axes>"
      ]
     },
     "metadata": {},
     "output_type": "display_data"
    },
    {
     "name": "stdin",
     "output_type": "stream",
     "text": [
      "Your move (square 1-9): 4\n"
     ]
    },
    {
     "data": {
      "image/png": "[encoded data removed]",
      "text/plain": [
       "<Figure size 100x100 with 1 Axes>"
      ]
     },
     "metadata": {},
     "output_type": "display_data"
    },
    {
     "name": "stdout",
     "output_type": "stream",
     "text": [
      "DRAW\n"
     ]
    }
   ],
   "source": [
    "play_bot(policy)"
   ]
  },
  {
   "cell_type": "code",
   "execution_count": 7,
   "id": "fb0ca564-aa69-4aaf-9ddc-8aff20263a34",
   "metadata": {},
   "outputs": [
    {
     "name": "stdin",
     "output_type": "stream",
     "text": [
      "Who will start, 0 for you, 1 for bot:  1\n"
     ]
    },
    {
     "data": {
      "image/png": "[encoded data removed]",
      "text/plain": [
       "<Figure size 100x100 with 1 Axes>"
      ]
     },
     "metadata": {},
     "output_type": "display_data"
    },
    {
     "name": "stdin",
     "output_type": "stream",
     "text": [
      "Your move (square 1-9): 2\n"
     ]
    },
    {
     "data": {
      "image/png": "[encoded data removed]",
      "text/plain": [
       "<Figure size 100x100 with 1 Axes>"
      ]
     },
     "metadata": {},
     "output_type": "display_data"
    },
    {
     "data": {
      "image/png": "[encoded data removed]",
      "text/plain": [
       "<Figure size 100x100 with 1 Axes>"
      ]
     },
     "metadata": {},
     "output_type": "display_data"
    },
    {
     "name": "stdin",
     "output_type": "stream",
     "text": [
      "Your move (square 1-9): 4\n"
     ]
    },
    {
     "data": {
      "image/png": "[encoded data removed]",
      "text/plain": [
       "<Figure size 100x100 with 1 Axes>"
      ]
     },
     "metadata": {},
     "output_type": "display_data"
    },
    {
     "data": {
      "image/png": "[encoded data removed]",
      "text/plain": [
       "<Figure size 100x100 with 1 Axes>"
      ]
     },
     "metadata": {},
     "output_type": "display_data"
    },
    {
     "name": "stdin",
     "output_type": "stream",
     "text": [
      "Your move (square 1-9): 3\n"
     ]
    },
    {
     "data": {
      "image/png": "[encoded data removed]",
      "text/plain": [
       "<Figure size 100x100 with 1 Axes>"
      ]
     },
     "metadata": {},
     "output_type": "display_data"
    },
    {
     "data": {
      "image/png": "[encoded data removed]",
      "text/plain": [
       "<Figure size 100x100 with 1 Axes>"
      ]
     },
     "metadata": {},
     "output_type": "display_data"
    },
    {
     "name": "stdout",
     "output_type": "stream",
     "text": [
      "You lose\n"
     ]
    }
   ],
   "source": [
    "play_bot(policy)"
   ]
  },
  {
   "cell_type": "code",
   "execution_count": null,
   "id": "74efa1df-c89c-49ef-a633-ebbf968b7f77",
   "metadata": {},
   "outputs": [],
   "source": []
  }
 ],
 "metadata": {
  "kernelspec": {
   "display_name": "Python 3 (ipykernel)",
   "language": "python",
   "name": "python3"
  },
  "language_info": {
   "codemirror_mode": {
    "name": "ipython",
    "version": 3
   },
   "file_extension": ".py",
   "mimetype": "text/x-python",
   "name": "python",
   "nbconvert_exporter": "python",
   "pygments_lexer": "ipython3",
   "version": "3.12.3"
  }
 },
 "nbformat": 4,
 "nbformat_minor": 5
}
