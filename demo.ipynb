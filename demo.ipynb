{
 "cells": [
  {
   "cell_type": "code",
   "execution_count": 1,
   "id": "47995499-257c-4864-8129-b621250b12af",
   "metadata": {},
   "outputs": [],
   "source": [
    "from tictactoe.dynamic_prog import policy_iteration\n",
    "from tictactoe.utils import play_random, play_bot"
   ]
  },
  {
   "cell_type": "code",
   "execution_count": 2,
   "id": "9bdc6ce9-bcc1-4e62-8f2c-ee3dc520d011",
   "metadata": {},
   "outputs": [],
   "source": [
    "GAMMA = 0.9 #discount rate\n",
    "DELTA = 1e-9 #stopping condition for policy evaluation."
   ]
  },
  {
   "cell_type": "code",
   "execution_count": 3,
   "id": "52530f46-3f89-4728-944e-ec905ac543e2",
   "metadata": {},
   "outputs": [],
   "source": [
    "V, policy = policy_iteration(GAMMA, DELTA)"
   ]
  },
  {
   "cell_type": "code",
   "execution_count": 4,
   "id": "ef9fff77-cb5f-4036-bf76-833fd7086ee9",
   "metadata": {},
   "outputs": [
    {
     "name": "stdout",
     "output_type": "stream",
     "text": [
      "Bot wins: 9948\n",
      "Bot losses: 0\n",
      "Draws: 52\n"
     ]
    }
   ],
   "source": [
    "play_random(pi=policy, games=10000, player_start=1)"
   ]
  },
  {
   "cell_type": "code",
   "execution_count": 5,
   "id": "0fd34efe-280f-498d-a2ec-0d30a562b326",
   "metadata": {},
   "outputs": [
    {
     "name": "stdin",
     "output_type": "stream",
     "text": [
      "Who will start, 0 for you, 1 for bot:  1\n"
     ]
    },
    {
     "data": {
      "image/png": "[encoded data removed]",
      "text/plain": [
       "<Figure size 100x100 with 1 Axes>"
      ]
     },
     "metadata": {},
     "output_type": "display_data"
    },
    {
     "name": "stdin",
     "output_type": "stream",
     "text": [
      "Your move (square 1-9): 8\n"
     ]
    },
    {
     "data": {
      "image/png": "[encoded data removed]",
      "text/plain": [
       "<Figure size 100x100 with 1 Axes>"
      ]
     },
     "metadata": {},
     "output_type": "display_data"
    },
    {
     "data": {
      "image/png": "[encoded data removed]",
      "text/plain": [
       "<Figure size 100x100 with 1 Axes>"
      ]
     },
     "metadata": {},
     "output_type": "display_data"
    },
    {
     "name": "stdin",
     "output_type": "stream",
     "text": [
      "Your move (square 1-9): 4\n"
     ]
    },
    {
     "data": {
      "image/png": "[encoded data removed]",
      "text/plain": [
       "<Figure size 100x100 with 1 Axes>"
      ]
     },
     "metadata": {},
     "output_type": "display_data"
    },
    {
     "data": {
      "image/png": "[encoded data removed]",
      "text/plain": [
       "<Figure size 100x100 with 1 Axes>"
      ]
     },
     "metadata": {},
     "output_type": "display_data"
    },
    {
     "name": "stdin",
     "output_type": "stream",
     "text": [
      "Your move (square 1-9): 5\n"
     ]
    },
    {
     "data": {
      "image/png": "[encoded data removed]",
      "text/plain": [
       "<Figure size 100x100 with 1 Axes>"
      ]
     },
     "metadata": {},
     "output_type": "display_data"
    },
    {
     "data": {
      "image/png": "[encoded data removed]",
      "text/plain": [
       "<Figure size 100x100 with 1 Axes>"
      ]
     },
     "metadata": {},
     "output_type": "display_data"
    },
    {
     "name": "stdout",
     "output_type": "stream",
     "text": [
      "You lose\n"
     ]
    }
   ],
   "source": [
    "play_bot(policy)"
   ]
  },
  {
   "cell_type": "code",
   "execution_count": null,
   "id": "fb0ca564-aa69-4aaf-9ddc-8aff20263a34",
   "metadata": {},
   "outputs": [],
   "source": []
  }
 ],
 "metadata": {
  "kernelspec": {
   "display_name": "Python 3 (ipykernel)",
   "language": "python",
   "name": "python3"
  },
  "language_info": {
   "codemirror_mode": {
    "name": "ipython",
    "version": 3
   },
   "file_extension": ".py",
   "mimetype": "text/x-python",
   "name": "python",
   "nbconvert_exporter": "python",
   "pygments_lexer": "ipython3",
   "version": "3.12.3"
  }
 },
 "nbformat": 4,
 "nbformat_minor": 5
}
